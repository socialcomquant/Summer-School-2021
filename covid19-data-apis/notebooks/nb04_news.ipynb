{
 "cells": [
  {
   "cell_type": "markdown",
   "metadata": {},
   "source": [
    "# Scrape News Articles from the Web with NewsAPI"
   ]
  },
  {
   "cell_type": "markdown",
   "metadata": {},
   "source": [
    "Notebook goals: \n",
    "- Download news articles from the web using NewsAPI\n",
    "- Build functions to send requests to NewsAPI for given keywords, time, and web sources\n",
    "- Parse and clean the results of the API call\n",
    "\n",
    "\n",
    "#### 1. NewsAPI\n",
    "\n",
    "News API is a simple, easy-to-use REST API that returns JSON search results for current and historic news articles published by over 75,000 worldwide sources\n",
    "\n",
    "Nice Features: \n",
    "- Search with singular keywords or complete phrases\n",
    "- Specify words which must appear in articles and words that must not\n",
    "- Specify the timeframe we are insterested in\n",
    "- Limit searches to a single publisher, a selection of publishers, or remove unwanted publishers\n",
    "- Limit your search to one of 14 languages: ar, de, en, es, fr, he, it, nl, no, pt, ru, se, ud, zh (https://en.wikipedia.org/wiki/List_of_ISO_639-1_codes)\n",
    "\n",
    "For developers is <u>totally free</u>, with restrictions: \n",
    "- New articles available with 1 hour delay\n",
    "- Search articles up to a month old\n",
    "- 100 requests per day\n",
    "\n",
    "#### 2. Notebook Overview\n",
    "a) First we will play with NewsAPI, test different features and parameters to get familiar with it\n",
    "\n",
    "b) Second, we will start the following exercise: \n",
    "- Define a set of keywords regarding COVID-19 vaccines and UK news media \n",
    "- Get related news articles from NewsAPI\n",
    "- Clean the data\n",
    "- Make basic data visualizations and manipulation "
   ]
  },
  {
   "cell_type": "markdown",
   "metadata": {},
   "source": [
    " "
   ]
  },
  {
   "cell_type": "markdown",
   "metadata": {},
   "source": [
    " "
   ]
  },
  {
   "cell_type": "markdown",
   "metadata": {},
   "source": [
    "## NewsAPI Overview\n",
    "\n",
    "First of all, we import the libraries that we are gonna use. You'll have to install the library *newsapi*. This is an unofficial Python client library to integrate News API into your Python application without having to make HTTP requests directly:"
   ]
  },
  {
   "cell_type": "code",
   "execution_count": 1,
   "metadata": {},
   "outputs": [
    {
     "name": "stdout",
     "output_type": "stream",
     "text": [
      "Requirement already satisfied: newsapi-python in /opt/anaconda3/lib/python3.7/site-packages (0.2.6)\n",
      "Requirement already satisfied: requests<3.0.0 in /opt/anaconda3/lib/python3.7/site-packages (from newsapi-python) (2.21.0)\n",
      "Requirement already satisfied: urllib3<1.25,>=1.21.1 in /opt/anaconda3/lib/python3.7/site-packages (from requests<3.0.0->newsapi-python) (1.24.3)\n",
      "Requirement already satisfied: idna<2.9,>=2.5 in /opt/anaconda3/lib/python3.7/site-packages (from requests<3.0.0->newsapi-python) (2.8)\n",
      "Requirement already satisfied: chardet<3.1.0,>=3.0.2 in /opt/anaconda3/lib/python3.7/site-packages (from requests<3.0.0->newsapi-python) (3.0.4)\n",
      "Requirement already satisfied: certifi>=2017.4.17 in /opt/anaconda3/lib/python3.7/site-packages (from requests<3.0.0->newsapi-python) (2018.11.29)\n"
     ]
    }
   ],
   "source": [
    "!pip install newsapi-python"
   ]
  },
  {
   "cell_type": "markdown",
   "metadata": {},
   "source": [
    "We are ready to code!"
   ]
  },
  {
   "cell_type": "code",
   "execution_count": 2,
   "metadata": {},
   "outputs": [],
   "source": [
    "# libraries\n",
    "from newsapi.newsapi_client import NewsApiClient \n",
    "import json                      \n",
    "from datetime import datetime, timedelta\n",
    "import time\n",
    "import numpy as np"
   ]
  },
  {
   "cell_type": "markdown",
   "metadata": {},
   "source": [
    "To get started we need an API key from: https://newsapi.org"
   ]
  },
  {
   "cell_type": "code",
   "execution_count": 3,
   "metadata": {},
   "outputs": [],
   "source": [
    "api_key = 'e98ffa34cc234554bfdc983f9cb9cb0c' # <--- put YOUR API key here!!!"
   ]
  },
  {
   "cell_type": "markdown",
   "metadata": {},
   "source": [
    "Let's test NewsAPI requesting top headlines:"
   ]
  },
  {
   "cell_type": "code",
   "execution_count": 4,
   "metadata": {},
   "outputs": [
    {
     "data": {
      "text/plain": [
       "{'status': 'ok',\n",
       " 'totalResults': 463,\n",
       " 'articles': [{'source': {'id': 'independent', 'name': 'Independent'},\n",
       "   'author': 'Karl Matchett',\n",
       "   'title': 'Canada vs Great Britain LIVE: Women’s football latest score, goals and updates from Tokyo Olympics today - The Independent',\n",
       "   'description': 'The final group stage game will determine if Team GB go through as group winners or runners-up',\n",
       "   'url': 'https://www.independent.co.uk/sport/olympics/tokyo-2020-team-gb-canada-womens-football-b1891200.html',\n",
       "   'urlToImage': 'https://static.independent.co.uk/2021/07/27/13/GettyImages-1330897081.jpg?width=1200&auto=webp&quality=75',\n",
       "   'publishedAt': '2021-07-27T12:36:41Z',\n",
       "   'content': 'Tom Daley: I am proud to be a gay man and an Olympic champion\\r\\nGreat Britain take on Canada in their third and final group stage fixture on Tuesday, already through to the knockout phase but now tryi… [+4306 chars]'},\n",
       "  {'source': {'id': 'cnn', 'name': 'CNN'},\n",
       "   'author': 'Nina Avramova and Reuters',\n",
       "   'title': 'Explosion rocks German chemicals site, killing one person and severely injuring workers - CNN',\n",
       "   'description': 'One person has died and 16 others were injured when an explosion rocked an industrial park for chemicals in the western German city of Leverkusen on Tuesday.',\n",
       "   'url': 'https://www.cnn.com/2021/07/27/europe/explosion-chempark-leverkusen-germany-intl/index.html',\n",
       "   'urlToImage': 'https://cdn.cnn.com/cnnnext/dam/assets/210727112855-03-leverkusen-explosion-0727-restricted-super-tease.jpg',\n",
       "   'publishedAt': '2021-07-27T12:33:00Z',\n",
       "   'content': None},\n",
       "  {'source': {'id': None, 'name': 'P.M. News'},\n",
       "   'author': None,\n",
       "   'title': 'Three million people infected with Hepatitis yearly: WHO - P.M. News',\n",
       "   'description': 'The World Health Organization has said no fewer than three million people become infected every year with the Hepatitis virus.',\n",
       "   'url': 'https://pmnewsnigeria.com/2021/07/27/three-million-people-infected-with-hepatitis-yearly-who/',\n",
       "   'urlToImage': 'https://i1.wp.com/cdn.pmnewsnigeria.com/2018/07/Hepatitis-B-e1560431946784.jpg?fit=700%2C525&ssl=1',\n",
       "   'publishedAt': '2021-07-27T12:26:33Z',\n",
       "   'content': 'The World Health Organization has said no fewer than three million people become infected every year with the Hepatitis virus.\\r\\nEvery 30 seconds, one person in the world dies of a disease caused by h… [+1737 chars]'},\n",
       "  {'source': {'id': 'bbc-news', 'name': 'BBC News'},\n",
       "   'author': 'https://www.facebook.com/bbcnews',\n",
       "   'title': 'Culture of cover-up saw hundreds of children abused, report finds - BBC News',\n",
       "   'description': 'More than 700 children suffered cruelty and sexual abuse at care homes in south London, an inquiry finds.',\n",
       "   'url': 'https://www.bbc.co.uk/news/uk-57984924',\n",
       "   'urlToImage': 'https://ichef.bbci.co.uk/news/1024/branded_news/D485/production/_86350445_86350444.jpg',\n",
       "   'publishedAt': '2021-07-27T12:24:11Z',\n",
       "   'content': 'By Mark EastonHome editor\\r\\nmedia captionElizabeth McCourt: \\'I can\\'t forgive Lambeth for what they\\'ve done to me or my family\\'\\r\\nStaff and councillors in Lambeth presided over a \"culture of cover-up\" t… [+4640 chars]'},\n",
       "  {'source': {'id': None, 'name': 'Sky.com'},\n",
       "   'author': 'Amy Coles, news reporter',\n",
       "   'title': 'Tokyo Olympics: Simone Biles withdraws from gymnastics team final due to apparent injury - Sky News',\n",
       "   'description': '',\n",
       "   'url': 'https://news.sky.com/story/tokoy-olympics-simone-biles-withdraws-from-gymnastics-team-final-due-to-apparent-injury-12365441',\n",
       "   'urlToImage': 'https://e3.365dm.com/21/07/1600x900/skynews-simone-biles-tokyo_5459978.jpg?20210727124637',\n",
       "   'publishedAt': '2021-07-27T12:22:30Z',\n",
       "   'content': None},\n",
       "  {'source': {'id': None, 'name': 'The Guardian'},\n",
       "   'author': 'Andrew Sparrow',\n",
       "   'title': 'Boris Johnson says people guilty of anti-social behaviour should be in hi-vis ‘chain gangs’ – live - The Guardian',\n",
       "   'description': 'Latest updates: prime minister says he wants offenders ‘in chain gangs visibly paying your debt to society’',\n",
       "   'url': 'https://www.theguardian.com/politics/live/2021/jul/27/uk-covid-live-news-updates-vaccines-delta-variant-testing',\n",
       "   'urlToImage': 'https://i.guim.co.uk/img/media/adbced395cb0293e8dbc6cfb46f52abdeb1f037d/0_0_4000_2399/master/4000.jpg?width=1200&height=630&quality=85&auto=format&fit=crop&overlay-align=bottom%2Cleft&overlay-width=100p&overlay-base64=L2ltZy9zdGF0aWMvb3ZlcmxheXMvdGctbGl2ZS5wbmc&enable=upscale&s=f55d762f67df515012edc214047945fa',\n",
       "   'publishedAt': '2021-07-27T12:20:27Z',\n",
       "   'content': None},\n",
       "  {'source': {'id': None, 'name': 'Rappler'},\n",
       "   'author': 'Rappler.com',\n",
       "   'title': \"'Palpak': Filipinos assess Duterte's policies, efforts the past 5 years - Rappler\",\n",
       "   'description': 'Citizen report cards are a useful way to evaluate government performance. What grade would you give the Duterte administration?',\n",
       "   'url': 'https://www.rappler.com/moveph/sona-2021-report-card-filipinos-assess-duterte-policies-efforts-past-years',\n",
       "   'urlToImage': 'https://assets2.rappler.com/2021/07/duts-score-card-ls-1627385441152.jpg',\n",
       "   'publishedAt': '2021-07-27T12:16:00Z',\n",
       "   'content': 'According to one member, if theres one thing we can learn, its that His popularity offers a lesson to everyone who belittles certain concerns...[he] ran a murderous and criminal regime, one that appe… [+132 chars]'},\n",
       "  {'source': {'id': None, 'name': 'NDTV News'},\n",
       "   'author': 'Ajay Pal Singh',\n",
       "   'title': 'Sri Lanka vs India: Krunal Pandya Tests Positive For Covid In Sri Lanka, 2nd T20I Postponed By A Day | Cricket News - NDTVSports.com',\n",
       "   'description': 'Sri Lanka vs India: India all-rounder Krunal Pandya, in Sri Lanka, has tested positive for COVID-19, forcing the second T20I -- scheduled for today -- to be postponed by a day.',\n",
       "   'url': 'https://sports.ndtv.com/sri-lanka-vs-india-2021/indian-cricketer-in-sri-lanka-tests-positive-for-covid-2nd-t20i-postponed-by-a-day-sources-2496040',\n",
       "   'urlToImage': 'https://c.ndtvimg.com/2021-03/38ci515g_krunal-pandya-bcci_625x300_23_March_21.jpg',\n",
       "   'publishedAt': '2021-07-27T12:13:00Z',\n",
       "   'content': 'Krunal Pandya has tested positive for COVID-19, forcing the second T20 International between India and Sri Lanka -- scheduled for today in Colombo-- to be postponed by a day. The Board of Control for… [+1261 chars]'},\n",
       "  {'source': {'id': None, 'name': 'CNBC'},\n",
       "   'author': 'Matthew J. Belvedere',\n",
       "   'title': '5 things to know before the stock market opens Tuesday - CNBC',\n",
       "   'description': 'U.S. futures were under some pressure after the Dow, S&P 500 and Nasdaq logged a fifth straight session of gains and another day of record closes.',\n",
       "   'url': 'https://www.cnbc.com/2021/07/27/5-things-to-know-before-the-stock-market-opens-tuesday-july-27.html',\n",
       "   'urlToImage': 'https://image.cnbcfm.com/api/v1/image/106914551-1626891527654-traders.jpg?v=1626891546',\n",
       "   'publishedAt': '2021-07-27T12:11:09Z',\n",
       "   'content': 'Here are the most important news, trends and analysis that investors need to start their trading day:\\r\\n1. Wall Street dips after another day of record-high closes\\r\\nTraders work on the floor of the Ne… [+3875 chars]'},\n",
       "  {'source': {'id': None, 'name': 'Sify News'},\n",
       "   'author': 'IANS',\n",
       "   'title': 'Indian astronomers part of team spotting unique Gamma-ray burst - Sify',\n",
       "   'description': 'New Delhi, July 27 (IANS) A group of astronomers, few of them Indians, have detected a very short, powerful burst of high-energy radiation that lasted for about a second and had been racing towards Earth for nearly half the present age of the universe.',\n",
       "   'url': 'https://www.sify.com/finance/indian-astronomers-part-of-team-spotting-unique-gamma-ray-burst-news-topnews-vh1mk9ahbfihe.html',\n",
       "   'urlToImage': 'https://www.sify.com/images/news-183x123.jpg',\n",
       "   'publishedAt': '2021-07-27T12:10:35Z',\n",
       "   'content': 'GRBs are the most powerful events in the universe, detectable across billions of light-years. Astronomers classify them as long or short based on whether the event lasts for more or less than two sec… [+3836 chars]'},\n",
       "  {'source': {'id': 'bbc-news', 'name': 'BBC News'},\n",
       "   'author': 'https://www.facebook.com/bbcnews',\n",
       "   'title': \"Covid: PM warns against 'premature conclusions' as cases fall - BBC News\",\n",
       "   'description': 'The prime minister is urging people to \"remain cautious\" despite a fall in UK Covid cases.',\n",
       "   'url': 'https://www.bbc.co.uk/news/uk-57981899',\n",
       "   'urlToImage': 'https://ichef.bbci.co.uk/news/1024/branded_news/15FCC/production/_119606009_1980gettyimages-1234059959.jpg',\n",
       "   'publishedAt': '2021-07-27T12:08:45Z',\n",
       "   'content': 'By Jennifer MeierhansBBC News\\r\\nmedia captionPrime Minister Boris Johnson says people should \"remain very cautious\"\\r\\nThe prime minister has urged people to \"remain cautious\" and not jump to \"premature… [+3835 chars]'},\n",
       "  {'source': {'id': None, 'name': 'New Zealand Herald'},\n",
       "   'author': 'Steven Holloway',\n",
       "   'title': 'Tokyo Olympics 2020: Games nightmare continues for Kiwi sailors, including struggles for Peter Burling and Blair Tuke - New Zealand Herald',\n",
       "   'description': 'Medal hopefuls capsize, then disqualified, while Burling and Tuke battle in opener.',\n",
       "   'url': 'https://www.nzherald.co.nz/sport/tokyo-olympics-2020-games-nightmare-continues-for-kiwi-sailors-including-struggles-for-peter-burling-and-blair-tuke/I2RL5LCQ6GDVU6V2CNEOFRWCRU/',\n",
       "   'urlToImage': 'https://www.nzherald.co.nz/resizer/e5Dg9dNV_M4aja9iXPgb1wLHeGg=/1200x675/filters:quality(70)/cloudfront-ap-southeast-2.images.arcpublishing.com/nzme/LZV7I7LFFPTT7M4CKWTWDPNFJI.jpg',\n",
       "   'publishedAt': '2021-07-27T12:08:11Z',\n",
       "   'content': \"Olympic nightmare as Kiwi sailors capsize. Video / Sky SportAmerica's Cup stars Peter Burling and Blair Tuke bombed in their opening Olympic race, on a bad day for the Kiwi sailing team.\\r\\nBurling and… [+3298 chars]\"},\n",
       "  {'source': {'id': None, 'name': 'Firstpost'},\n",
       "   'author': None,\n",
       "   'title': 'Seven-year-old Brazilian girl discovers 7 asteroids for NASA, becomes worlds youngest astronomer - Firstpost',\n",
       "   'description': 'Nicole Oliveira has been honoured by the International Astronomical Search Collaboration for her inputs in asteroid searches.',\n",
       "   'url': 'https://www.firstpost.com/world/seven-year-old-brazilian-girl-discovers-7-asteroids-for-nasa-becomes-worlds-youngest-astronomer-9841341.html',\n",
       "   'urlToImage': 'https://images.firstpost.com/wp-content/uploads/2021/07/Nicole-Oliveira-fb.jpg',\n",
       "   'publishedAt': '2021-07-27T12:02:27Z',\n",
       "   'content': 'Nicole Oliveira has been honoured by the International Astronomical Search Collaboration for her inputs in asteroid searches.\\r\\nA seven-year-old Brazilian girl, who has an immense love for astronomy, … [+1611 chars]'},\n",
       "  {'source': {'id': None, 'name': 'Yahoo Entertainment'},\n",
       "   'author': 'PR Newswire',\n",
       "   'title': \"The McLaren 765LT Spider: extreme performance and new heights of driver engagement from McLaren's most powerful-ever convertible supercar - Yahoo Finance\",\n",
       "   'description': 'Limited-volume 765LT Spider revealed; available to order now',\n",
       "   'url': 'https://finance.yahoo.com/news/mclaren-765lt-spider-extreme-performance-120000277.html',\n",
       "   'urlToImage': 'https://s.yimg.com/uu/api/res/1.2/HeMYx0mC5D2JxUNl.94.Cw--~B/aD0yNjc7dz00MDA7YXBwaWQ9eXRhY2h5b24-/https://media.zenfs.com/en/prnewswire.com/6a6a29a5215decd2286105b6e3ad7bc6',\n",
       "   'publishedAt': '2021-07-27T12:00:00Z',\n",
       "   'content': 'MANAMA, Bahrain, July 27, 2021 /PRNewswire/ --\\r\\n<ul><li>Limited-volume 765LT Spider revealed; available to order now\\r\\n</li><li>Exclusive and highly collectible: just 765 will be built to customer ord… [+10962 chars]'},\n",
       "  {'source': {'id': None, 'name': 'The Guardian'},\n",
       "   'author': 'Ian Sample',\n",
       "   'title': 'People shielding were eight times more likely to get Covid, study finds - The Guardian',\n",
       "   'description': 'High-risk individuals were still much more vulnerable to catching virus and dying in first wave of pandemic',\n",
       "   'url': 'https://amp.theguardian.com/world/2021/jul/27/people-shielding-still-eight-times-more-likely-to-get-covid-19-study-finds',\n",
       "   'urlToImage': None,\n",
       "   'publishedAt': '2021-07-27T11:57:00Z',\n",
       "   'content': 'CoronavirusHigh-risk individuals were still much more vulnerable to catching virus and dying in first wave of pandemic\\r\\nPeople advised to shield in the first wave of the pandemic were five times more… [+3798 chars]'},\n",
       "  {'source': {'id': None, 'name': 'The Indian Express'},\n",
       "   'author': 'Express Web Desk',\n",
       "   'title': 'Mamata Banerjee calls on PM, meets Congress leaders on Day 1 of Delhi visit - The Indian Express',\n",
       "   'description': 'Mamata Banerjee also met Congress leaders Kamal Nath and Anand Sharma, earlier in the day, amid several signals of increasing Opposition unity ahead of the 2024 Lok Sabha polls.',\n",
       "   'url': 'https://indianexpress.com/article/india/mamata-banerjee-congress-kamal-nath-delhi-speculations-opposition-unity-7424819/',\n",
       "   'urlToImage': 'https://images.indianexpress.com/2021/07/mamata-modi.png',\n",
       "   'publishedAt': '2021-07-27T11:55:53Z',\n",
       "   'content': 'On her first visit to Delhi after the TMCs resounding victory in West Bengal, Chief Minister Mamata Banerjee on Tuesday met Prime Minister Narendra Modi at his residence in Lok Kalyan Marg.\\r\\nFollowin… [+2456 chars]'},\n",
       "  {'source': {'id': 'al-jazeera-english', 'name': 'Al Jazeera English'},\n",
       "   'author': 'Al Jazeera',\n",
       "   'title': 'Explosion rocks German chemicals site; five people missing - Al Jazeera English',\n",
       "   'description': 'Emergency responders battle back blaze after explosion rocks chemical complex in Leverkusen.',\n",
       "   'url': 'https://www.aljazeera.com/news/2021/7/27/five-people-missing-after-explosion-rocks-german-chemicals-site',\n",
       "   'urlToImage': 'https://www.aljazeera.com/wp-content/uploads/2021/07/2021-07-27T102731Z_200226750_RC2XSO9Q7IPA_RTRMADP_3_GERMANY-BLAST.jpg?resize=1200%2C630',\n",
       "   'publishedAt': '2021-07-27T11:48:45Z',\n",
       "   'content': 'One person has been killed and four others are missing after an explosion rocked an industrial park housing several chemical companies in Germanys western city of Leverkusen.\\r\\nTuesdays explosion at t… [+2075 chars]'},\n",
       "  {'source': {'id': None, 'name': 'Www.dn.se'},\n",
       "   'author': 'Amanda Dahl, Sebastian Orre',\n",
       "   'title': 'Stor explosion i industripark i Tyskland - DN.SE - Dagens Nyheter',\n",
       "   'description': '',\n",
       "   'url': 'https://www.dn.se/varlden/stor-explosion-i-industripark-i-tyskland/',\n",
       "   'urlToImage': 'https://cached-images.bonnier.news/cfcdn-screen9/img/s/a/saAzHMGUfgPvomLz3s56rg_image/image.jpg?interpolation=lanczos-none&fit=around%7C1024:576&crop=1024:h;center,top&output-quality=80&output-format=auto',\n",
       "   'publishedAt': '2021-07-27T11:48:08Z',\n",
       "   'content': 'Fyra personer saknas fortsatt efter den stora explosionen, enligt företaget Currenta, som driver kemiområdet Chempark. Tidigare var antalet saknade fem men en av dessa har hittats och dennes liv gick… [+2220 chars]'},\n",
       "  {'source': {'id': None, 'name': 'Sky.com'},\n",
       "   'author': 'Chris Robertson',\n",
       "   'title': 'Peter Kay announces long-awaited stage return will be at charity Q&A event in Manchester - Sky News',\n",
       "   'description': '',\n",
       "   'url': 'https://news.sky.com/story/peter-kay-announces-long-awaited-stage-return-will-be-at-charity-q-a-event-in-manchester-12365336',\n",
       "   'urlToImage': 'https://e3.365dm.com/21/07/1600x900/2372107270398853007_5459865.jpg?20210727120730',\n",
       "   'publishedAt': '2021-07-27T11:46:54Z',\n",
       "   'content': None},\n",
       "  {'source': {'id': None, 'name': 'Sportsnet.ca'},\n",
       "   'author': None,\n",
       "   'title': 'Simone Biles withdraws from team finals at Tokyo Olympics - Sportsnet.ca',\n",
       "   'description': 'Reigning Olympic gymnastics champion Simone Biles will not compete in the team finals event at the Tokyo Olympics due to a medical issue.',\n",
       "   'url': 'https://www.sportsnet.ca/olympics/article/simone-biles-team-finals-tokyo-olympics-apparent-injury/',\n",
       "   'urlToImage': 'https://www.sportsnet.ca/wp-content/uploads/2021/07/simona-biles-1040x572.jpg',\n",
       "   'publishedAt': '2021-07-27T11:46:00Z',\n",
       "   'content': 'TOKYO Reigning Olympic gymnastics champion Simone Biles is out of the team finals with what USA Gymnastics described as a medical issue.\\r\\nUSA Gymnastics did not specify the nature of Biles medical is… [+1761 chars]'}]}"
      ]
     },
     "execution_count": 4,
     "metadata": {},
     "output_type": "execute_result"
    }
   ],
   "source": [
    "newsapi = NewsApiClient(api_key=api_key)\n",
    "results = newsapi.get_top_headlines()\n",
    "results"
   ]
  },
  {
   "cell_type": "markdown",
   "metadata": {},
   "source": [
    " "
   ]
  },
  {
   "cell_type": "markdown",
   "metadata": {},
   "source": [
    " "
   ]
  },
  {
   "cell_type": "markdown",
   "metadata": {},
   "source": [
    " "
   ]
  },
  {
   "cell_type": "markdown",
   "metadata": {},
   "source": [
    "The returned object is a <u>JSON</u> object. \n",
    "\n",
    "<i>\n",
    "<center>\n",
    "JSON (JavaScript Object Notation) is an open standard file format and data interchange format that uses human-readable text to store and transmit data objects consisting of attribute–value pairs and arrays (or other serializable values). It is a very common data format, with a diverse range of applications, one example being web applications that communicate with a server. \n",
    "</center>\n",
    "</i>\n",
    "(https://en.wikipedia.org/wiki/JSON)\n",
    "    \n",
    "    \n",
    "    \n",
    "    \n",
    "    \n",
    "You can see JSON objects as (nested) python dictionaries, i.e. lists of couples key - values. The keys (i.e., *fields*) of the returned object are:"
   ]
  },
  {
   "cell_type": "code",
   "execution_count": 5,
   "metadata": {},
   "outputs": [
    {
     "name": "stdout",
     "output_type": "stream",
     "text": [
      "dict_keys(['status', 'totalResults', 'articles'])\n"
     ]
    }
   ],
   "source": [
    "print(results.keys())"
   ]
  },
  {
   "cell_type": "markdown",
   "metadata": {},
   "source": [
    "The *interesting* field is 'articles'. Let's see the structure of the first downloaded article:"
   ]
  },
  {
   "cell_type": "code",
   "execution_count": 6,
   "metadata": {},
   "outputs": [
    {
     "data": {
      "text/plain": [
       "{'source': {'id': 'independent', 'name': 'Independent'},\n",
       " 'author': 'Karl Matchett',\n",
       " 'title': 'Canada vs Great Britain LIVE: Women’s football latest score, goals and updates from Tokyo Olympics today - The Independent',\n",
       " 'description': 'The final group stage game will determine if Team GB go through as group winners or runners-up',\n",
       " 'url': 'https://www.independent.co.uk/sport/olympics/tokyo-2020-team-gb-canada-womens-football-b1891200.html',\n",
       " 'urlToImage': 'https://static.independent.co.uk/2021/07/27/13/GettyImages-1330897081.jpg?width=1200&auto=webp&quality=75',\n",
       " 'publishedAt': '2021-07-27T12:36:41Z',\n",
       " 'content': 'Tom Daley: I am proud to be a gay man and an Olympic champion\\r\\nGreat Britain take on Canada in their third and final group stage fixture on Tuesday, already through to the knockout phase but now tryi… [+4306 chars]'}"
      ]
     },
     "execution_count": 6,
     "metadata": {},
     "output_type": "execute_result"
    }
   ],
   "source": [
    "results[\"articles\"][0]"
   ]
  },
  {
   "cell_type": "markdown",
   "metadata": {},
   "source": [
    " "
   ]
  },
  {
   "cell_type": "markdown",
   "metadata": {},
   "source": [
    " "
   ]
  },
  {
   "cell_type": "markdown",
   "metadata": {},
   "source": [
    "The article is itself a <u>JSON</u> object, whose keys are:"
   ]
  },
  {
   "cell_type": "code",
   "execution_count": 7,
   "metadata": {},
   "outputs": [
    {
     "name": "stdout",
     "output_type": "stream",
     "text": [
      "dict_keys(['source', 'author', 'title', 'description', 'url', 'urlToImage', 'publishedAt', 'content'])\n"
     ]
    }
   ],
   "source": [
    "print(results[\"articles\"][0].keys())"
   ]
  },
  {
   "cell_type": "markdown",
   "metadata": {},
   "source": [
    "A couple of notes:\n",
    "- the *text* field are 'title', 'description', 'content'\n",
    "- the 'content' section is a preview of the whole content, but still enough to get the overall topic of the article\n",
    "- we also have the URL to the article online"
   ]
  },
  {
   "cell_type": "markdown",
   "metadata": {},
   "source": [
    "Now we will use NewsAPI to get something more specific. First, we restrict the time frame (not only last top headlines) and language. We will also intriduce a keyword: 'vaccine'"
   ]
  },
  {
   "cell_type": "code",
   "execution_count": 8,
   "metadata": {},
   "outputs": [
    {
     "data": {
      "text/plain": [
       "{'status': 'ok',\n",
       " 'totalResults': 14530,\n",
       " 'articles': [{'source': {'id': 'wired', 'name': 'Wired'},\n",
       "   'author': 'Eve Sneider',\n",
       "   'title': 'The Pandemic Olympics, Vaccine Misinformation, and More News',\n",
       "   'description': 'Catch up on the most important updates from this week.',\n",
       "   'url': 'https://www.wired.com/story/pandemic-olympics-vaccine-misinformation-coronavirus-news/',\n",
       "   'urlToImage': 'https://media.wired.com/photos/60faf8fb6c21a8379e7e15f7/191:100/w_1280,c_limit/science_corona_olympics_1234133123.jpg',\n",
       "   'publishedAt': '2021-07-23T18:21:33Z',\n",
       "   'content': 'The pandemic Olympics, vaccine misinformation, and reinstated Covid-19 passes. Heres what you should know: \\r\\nWant to receive this weekly roundup and other coronavirus news? Sign uphere!\\r\\nThe Olympics… [+4571 chars]'},\n",
       "  {'source': {'id': None, 'name': 'Lifehacker.com'},\n",
       "   'author': 'Lindsey Ellefson',\n",
       "   'title': \"How to Start Dating Again If You're Unvaccinated\",\n",
       "   'description': 'The post-vax slutty summer is happening all around us, but some participants aren’t actually post-vax. The vaccine has been free and widely available for months now, but about half the population still isn’t vaccinated against COVID-19. A portion of those unv…',\n",
       "   'url': 'https://lifehacker.com/how-to-start-dating-again-if-youre-unvaccinated-1847343349',\n",
       "   'urlToImage': 'https://i.kinja-img.com/gawker-media/image/upload/c_fill,f_auto,fl_progressive,g_center,h_675,pg_1,q_80,w_1200/38a33c58cc213f580a30a2be640d3330.jpg',\n",
       "   'publishedAt': '2021-07-23T14:30:00Z',\n",
       "   'content': 'The post-vax slutty summer is happening all around us, but some participants arent actually post-vax. The vaccine has been free and widely available for months now, but about half the population stil… [+4793 chars]'},\n",
       "  {'source': {'id': 'bbc-news', 'name': 'BBC News'},\n",
       "   'author': 'https://www.facebook.com/bbcnews',\n",
       "   'title': 'Covid: The Mexican villages refusing to vaccinate',\n",
       "   'description': 'Take-up of the vaccine among indigenous towns in Chiapas state is as low as 2% in some areas.',\n",
       "   'url': 'https://www.bbc.co.uk/news/world-latin-america-57893466',\n",
       "   'urlToImage': 'https://ichef.bbci.co.uk/news/1024/branded_news/C5CF/production/_119493605_gettyimages-1213732858.jpg',\n",
       "   'publishedAt': '2021-07-20T23:07:51Z',\n",
       "   'content': 'By Stephanie HegartyPopulation correspondent \\r\\nimage captionDisinformation has led to indigenous communities choosing not to get vaccinated\\r\\nIn November Pascuala Vázquez Aguilar had a strange dream a… [+6661 chars]'},\n",
       "  {'source': {'id': 'bbc-news', 'name': 'BBC News'},\n",
       "   'author': 'https://www.facebook.com/bbcnews',\n",
       "   'title': 'Covid vaccines: Why a giant plastic bag shortage is slowing the rollout',\n",
       "   'description': 'A look at the critical vaccine components in short supply, as a new global marketplace is launched to tackle bottlenecks.',\n",
       "   'url': 'https://www.bbc.co.uk/news/health-57024322',\n",
       "   'urlToImage': 'https://ichef.bbci.co.uk/news/1024/branded_news/FFE0/production/_119540556_vaccine_bottleneck_promo976.jpg',\n",
       "   'publishedAt': '2021-07-23T23:33:35Z',\n",
       "   'content': 'By Lucy RodgersBBC News\\r\\nAlthough Covid-19 vaccine production has been ramped up from zero to billions of doses in record time, a shortage of raw materials and equipment has limited the number of dos… [+6206 chars]'},\n",
       "  {'source': {'id': 'bbc-news', 'name': 'BBC News'},\n",
       "   'author': 'https://www.facebook.com/bbcnews',\n",
       "   'title': 'Covid-19: Recent claims about cremations and vaccines fact-checked',\n",
       "   'description': 'Debunking claims shared widely on social media about cremations in the UK and US vaccine statistics.',\n",
       "   'url': 'https://www.bbc.co.uk/news/57941113',\n",
       "   'urlToImage': 'https://ichef.bbci.co.uk/news/1024/branded_news/8345/production/_119550633_protest.png',\n",
       "   'publishedAt': '2021-07-25T23:09:09Z',\n",
       "   'content': 'By Jack Goodman and Kayleen DevlinBBC Reality Check and Monitoring\\r\\nimage copyrightGetty Images\\r\\nimage captionCovid vaccines have been shown to be very safe, but people continue to make unfounded cla… [+5783 chars]'},\n",
       "  {'source': {'id': None, 'name': 'New York Times'},\n",
       "   'author': 'Jonathan Weisman and Sheryl Gay Stolberg',\n",
       "   'title': 'As Virus Resurges, G.O.P. Lawmakers Allow Vaccine Skepticism to Flourish',\n",
       "   'description': 'As the coronavirus’s Delta variant rips through conservative communities, most Republicans remain reluctant to confront vaccine misinformation and skepticism in their midst.',\n",
       "   'url': 'https://www.nytimes.com/2021/07/20/us/politics/republicans-coronavirus.html',\n",
       "   'urlToImage': 'https://static01.nyt.com/images/2021/07/20/us/politics/20dc-gopvaccine-1/20dc-gopvaccine-1-facebookJumbo.jpg',\n",
       "   'publishedAt': '2021-07-20T23:28:11Z',\n",
       "   'content': 'The conservative personality Sean Hannity told viewers on Monday night to take the virus seriously and get vaccinated. Steve Doocy, the co-host of Mr. Trumps favorite news program, Fox &amp; Friends,… [+1413 chars]'},\n",
       "  {'source': {'id': None, 'name': 'Gizmodo.com'},\n",
       "   'author': 'Matt Novak',\n",
       "   'title': 'Twitter Suspends Marjorie Taylor Greene for 12 Hours Over Anti-Vaccine Tweets',\n",
       "   'description': 'Right-wing congresswoman Marjorie Taylor Greene has been suspended from Twitter for spreading misinformation about covid-19 vaccines, according to a new report from CNN. How long will Greene be forced off the platform? An entire 12 hours, according to the cab…',\n",
       "   'url': 'https://gizmodo.com/twitter-suspends-marjorie-taylor-greene-for-12-hours-ov-1847325429',\n",
       "   'urlToImage': 'https://i.kinja-img.com/gawker-media/image/upload/c_fill,f_auto,fl_progressive,g_center,h_675,pg_1,q_80,w_1200/cf15ae33d94610187f9f90ad973a6419.jpg',\n",
       "   'publishedAt': '2021-07-20T09:00:00Z',\n",
       "   'content': 'Right-wing congresswoman Marjorie Taylor Greene has been suspended from Twitter for spreading misinformation about covid-19 vaccines, according to a new report from CNN. How long will Greene be force… [+3250 chars]'},\n",
       "  {'source': {'id': None, 'name': 'Gizmodo.com'},\n",
       "   'author': 'Ed Cara',\n",
       "   'title': 'What to Know About the Johnson & Johnson Vaccine and the Delta Variant',\n",
       "   'description': 'With covid-19 cases once again rising in the U.S.—fueled by the emergence of the more transmissible Delta variant—even vaccinated people are understandably worried. This week, new preliminary research seemed to suggest that those given the Johnson & Johnson v…',\n",
       "   'url': 'https://gizmodo.com/what-to-know-about-the-johnson-johnson-vaccine-and-th-1847343819',\n",
       "   'urlToImage': 'https://i.kinja-img.com/gawker-media/image/upload/c_fill,f_auto,fl_progressive,g_center,h_675,pg_1,q_80,w_1200/0b9e754c13fe09ae328895ea8e9f306d.jpg',\n",
       "   'publishedAt': '2021-07-22T21:11:00Z',\n",
       "   'content': 'With covid-19 cases once again rising in the U.S.fueled by the emergence of the more transmissible Delta varianteven vaccinated people are understandably worried. This week, new preliminary research … [+6598 chars]'},\n",
       "  {'source': {'id': 'cnn', 'name': 'CNN'},\n",
       "   'author': None,\n",
       "   'title': \"Mom: If my daughter was vaccinated she'd still be here\",\n",
       "   'description': \"A Missouri mom is mourning her daughter's death after not getting vaccinated. She is pleading for people to not be selfish, think of your loved ones, and get a vaccine.\",\n",
       "   'url': 'https://www.cnn.com/videos/health/2021/07/21/mom-unvaccinated-daughter-death-sot-kmov-mpx-vpx.hln',\n",
       "   'urlToImage': 'https://cdn.cnn.com/cnnnext/dam/assets/210721093100-mom-mourns-daughters-death-super-tease.jpeg',\n",
       "   'publishedAt': '2021-07-21T14:23:20Z',\n",
       "   'content': 'Morning Express with Robin Meade'},\n",
       "  {'source': {'id': None, 'name': 'New York Times'},\n",
       "   'author': 'Amelia Nierenberg and Jonathan Wolfe',\n",
       "   'title': 'Coronavirus Briefing: What Happened Today',\n",
       "   'description': 'England reopened, despite rising cases.',\n",
       "   'url': 'https://www.nytimes.com/2021/07/19/us/coronavirus-briefing-what-happened-today.html',\n",
       "   'urlToImage': 'https://static01.nyt.com/images/2021/07/19/multimedia/19coronavirus-nl-main/19coronavirus-nl-main-facebookJumbo.png',\n",
       "   'publishedAt': '2021-07-19T21:31:23Z',\n",
       "   'content': 'Indonesia, the worlds fourth most populous nation, now has the worlds highest count of new infections, with nearly 57,000 new cases reported on Friday. The true count is probably three to six times t… [+1129 chars]'},\n",
       "  {'source': {'id': 'bbc-news', 'name': 'BBC News'},\n",
       "   'author': 'https://www.facebook.com/bbcnews',\n",
       "   'title': 'Covid: Where and why is the US vaccine rollout slowing down?',\n",
       "   'description': \"Vaccinations in the US are slowing as infections rise - we've looked at where and why this is happening.\",\n",
       "   'url': 'https://www.bbc.co.uk/news/57889961',\n",
       "   'urlToImage': 'https://ichef.bbci.co.uk/news/1024/branded_news/E440/production/_119523485_la_vaccine_afp.jpg',\n",
       "   'publishedAt': '2021-07-21T23:21:10Z',\n",
       "   'content': \"By Jake HortonBBC Reality Check\\r\\nimage copyrightGetty Images\\r\\nPresident Joe Biden is urging Americans to get jabbed as the country's vaccination rollout slows down.\\r\\nInfections are rising across the … [+5318 chars]\"},\n",
       "  {'source': {'id': 'reuters', 'name': 'Reuters'},\n",
       "   'author': 'Reuters Staff',\n",
       "   'title': \"Taiwan's Medigen to start late-stage clinical trial for COVID-19 vaccine in Paraguay - Reuters\",\n",
       "   'description': \"Taiwan's Medigen Vaccine Biologics Corp said on Tuesday it will start a late-stage clinical trial this year in Paraguay for its COVID-19 vaccine, part of the island's push to make its own shots against the coronavirus.\",\n",
       "   'url': 'https://www.reuters.com/article/us-health-coronavirus-taiwan-vaccine-idUSKBN2EQ0TI',\n",
       "   'urlToImage': 'https://s1.reutersmedia.net/resources_v2/images/rcom-default.png?w=800',\n",
       "   'publishedAt': '2021-07-20T09:01:00Z',\n",
       "   'content': 'By Reuters Staff\\r\\nTAIPEI (Reuters) - Taiwans Medigen Vaccine Biologics Corp said on Tuesday it will start a late-stage clinical trial this year in Paraguay for its COVID-19 vaccine, part of the islan… [+1831 chars]'},\n",
       "  {'source': {'id': 'reuters', 'name': 'Reuters'},\n",
       "   'author': 'Julie Steenhuysen,Ludwig Burger',\n",
       "   'title': 'Global quest underway to speed COVID-19 vaccine trials - Reuters',\n",
       "   'description': 'Scientists are working on a benchmark for COVID-19 vaccine efficacy that would allow drugmakers to conduct smaller, speedier human trials to get them to market and address a huge global vaccine shortage.',\n",
       "   'url': 'https://www.reuters.com/business/healthcare-pharmaceuticals/global-quest-underway-speed-covid-19-vaccine-trials-2021-07-20/',\n",
       "   'urlToImage': 'https://www.reuters.com/resizer/uZkkZpwxrbc42WMOI1NzT1AbMIU=/1200x628/smart/filters:quality(80)/cloudfront-us-east-2.images.arcpublishing.com/reuters/FGV6MLHDJNLC3DNW5D74PE5XQI.jpg',\n",
       "   'publishedAt': '2021-07-20T10:08:00Z',\n",
       "   'content': 'Vials labelled \"Moderna, Johnson &amp; Johnson, Pfizer-BioNTech coronavirus disease (COVID-19) vaccine\" are seen in this illustration picture taken May 2, 2021. REUTERS/Dado RuvicCHICAGO, July 20 (Re… [+7056 chars]'},\n",
       "  {'source': {'id': 'reuters', 'name': 'Reuters'},\n",
       "   'author': 'Reuters Staff',\n",
       "   'title': 'Johnson & Johnson forecasts $2.5 billion in COVID-19 vaccine sales this year - Reuters',\n",
       "   'description': 'Johnson & Johnson on Wednesday forecast just $2.5 billion in 2021 sales of its COVID-19 vaccine, which has fallen way behind rival shots from Pfizer and Moderna as the company deals with vaccine production issues and safety concerns.',\n",
       "   'url': 'https://www.reuters.com/article/us-johnson-johnson-results-idUSKBN2ER10F',\n",
       "   'urlToImage': 'https://static.reuters.com/resources/r/?m=02&d=20210721&t=2&i=1569514518&r=LYNXMPEH6K0KR&w=800',\n",
       "   'publishedAt': '2021-07-21T10:36:00Z',\n",
       "   'content': 'By Reuters Staff\\r\\n(Reuters) -Johnson &amp; Johnson on Wednesday forecast just $2.5 billion in 2021 sales of its COVID-19 vaccine, which has fallen way behind rival shots from Pfizer and Moderna as th… [+1068 chars]'},\n",
       "  {'source': {'id': 'cnn', 'name': 'CNN'},\n",
       "   'author': 'Opinion by Theresa Brown',\n",
       "   'title': 'Opinion: Vaccinate all health care workers now',\n",
       "   'description': \"Covid-19 has killed over 600,000 Americans and sickened many more. It's hard for me to understand why people would refuse a vaccine that could save their lives and those of their family. But as a nurse, what I find even harder to understand is why some health…\",\n",
       "   'url': 'https://www.cnn.com/2021/07/26/opinions/covid-19-vaccine-health-care-worker-mandate/index.html',\n",
       "   'urlToImage': 'https://cdn.cnn.com/cnnnext/dam/assets/210724072221-moderna-covid-19-vaccine-florida-05-20-2021-super-tease.jpg',\n",
       "   'publishedAt': '2021-07-26T22:13:12Z',\n",
       "   'content': 'Theresa Brown is a nurse and author of \"The Shift: One Nurse, Twelve Hours, Four Patients\\' Lives.\" The views expressed here are hers. Read more opinion on CNN.\\r\\n (CNN)Covid-19 has killed over 600,000… [+7940 chars]'},\n",
       "  {'source': {'id': 'bbc-news', 'name': 'BBC News'},\n",
       "   'author': 'https://www.facebook.com/bbcnews',\n",
       "   'title': 'Eric Clapton refuses to play venues requiring vaccines for concertgoers',\n",
       "   'description': 'The UK recently announced that proof of vaccination will soon be required at venues and nightclubs.',\n",
       "   'url': 'https://www.bbc.co.uk/news/world-us-canada-57934379',\n",
       "   'urlToImage': 'https://ichef.bbci.co.uk/news/1024/branded_news/17889/production/_119539369_gettyimages-1210197534.jpg',\n",
       "   'publishedAt': '2021-07-22T15:55:34Z',\n",
       "   'content': 'British rock icon Eric Clapton has said he will not perform at venues that require concertgoers to have been vaccinated against Covid-19.\\r\\nUK Prime Minister Boris Johnson has said such proof will be … [+2109 chars]'},\n",
       "  {'source': {'id': 'reuters', 'name': 'Reuters'},\n",
       "   'author': 'Reuters Staff',\n",
       "   'title': 'BRIEF-U.S. CDC Says Delivered 390,174,755 Doses Of Covid-19 Vaccine As Of July 19 - Reuters',\n",
       "   'description': 'BRIEF-U.S. CDC Says Delivered 390,174,755 Doses Of Covid-19 Vaccine As Of July 19\\xa0\\xa0Reuters',\n",
       "   'url': 'https://www.reuters.com/article/brief-us-cdc-says-delivered-390174755-do-idUSL4N2OV39E',\n",
       "   'urlToImage': 'https://s1.reutersmedia.net/resources_v2/images/rcom-default.png?w=800',\n",
       "   'publishedAt': '2021-07-19T18:37:00Z',\n",
       "   'content': 'By Reuters Staff\\r\\nJuly 19 (Reuters) - U.S. CDC:\\r\\n* U.S. CDC SAYS DELIVERED 390,174,755 DOSES OF COVID-19 VACCINE AS OF JULY 19\\r\\n* U.S. CDC SAYS ADMINISTERED 338,247,434 DOSES OF COVID-19 VACCINE AS O… [+356 chars]'},\n",
       "  {'source': {'id': 'cnn', 'name': 'CNN'},\n",
       "   'author': '',\n",
       "   'title': 'Conservative radio host changes tune on vaccines',\n",
       "   'description': 'Mark Valentine, brother of conservative radio host Phil Valentine, speaks with CNN\\'s <a href=\"http://www.cnn.com/profiles/alisyn-camerota-profile\" target=\"_blank\">Alisyn Camerota</a> about <a href=\"http://www.cnn.com/2021/07/23/us/radio-host-vaccine-trnd/inde…',\n",
       "   'url': 'https://www.cnn.com/videos/health/2021/07/26/phil-valentine-coronavirus-brother-mark-interview-nr-vpx.cnn',\n",
       "   'urlToImage': None,\n",
       "   'publishedAt': '2021-07-26T19:06:25Z',\n",
       "   'content': \"His brother was a vocal critic of Covid-19 vaccination. Here's what changed\\r\\nMark Valentine, brother of conservative radio host Phil Valentine, speaks with CNNs Alisyn Camerota about Phils change of … [+66 chars]\"},\n",
       "  {'source': {'id': None, 'name': 'Edmonton Journal'},\n",
       "   'author': 'Anna Junker',\n",
       "   'title': 'Alberta passes five million vaccine dose milestone as 130 new cases of COVID-19 reported since Friday - Edmonton Journal',\n",
       "   'description': '<ol><li>Alberta passes five million vaccine dose milestone as 130 new cases of COVID-19 reported since Friday\\xa0\\xa0Edmonton Journal\\r\\n</li><li>Alberta surpasses 5M COVID-19 vaccine doses administered as hospitalizations decrease\\xa0\\xa0Global News\\r\\n</li><li>5 million ja…',\n",
       "   'url': 'https://edmontonjournal.com/news/local-news/alberta-passes-five-million-vaccine-dose-milestone-as-130-new-cases-of-covid-19-reported-since-friday',\n",
       "   'urlToImage': 'https://smartcdn.prod.postmedia.digital/edmontonjournal/wp-content/uploads/2021/06/moderna.jpg',\n",
       "   'publishedAt': '2021-07-19T22:30:24Z',\n",
       "   'content': 'Article content\\r\\nAs of end-of-day Sunday, 5,056,062 total doses have been administered, meaning 74.8 per cent of Albertans aged 12 and older have at least one dose while 59.7 per cent are fully vacci… [+1575 chars]'},\n",
       "  {'source': {'id': 'reuters', 'name': 'Reuters'},\n",
       "   'author': 'Reuters',\n",
       "   'title': \"Taiwan approves Medigen's COVID-19 vaccine candidate - Reuters\",\n",
       "   'description': 'Taiwan\\'s government on Monday approved the use and production of Medigen Vaccine Biologics Corp\\'s <a href=\"https://www.reuters.com/companies/6547.TWO\" target=\"_blank\">(6547.TWO)</a> COVID-19 vaccine candidate, a major step in the island\\'s plans to develop its…',\n",
       "   'url': 'https://www.reuters.com/world/asia-pacific/taiwan-approves-production-medigens-covid-19-vaccine-candidate-2021-07-19/',\n",
       "   'urlToImage': 'https://www.reuters.com/pf/resources/images/reuters/reuters-default.png?d=46',\n",
       "   'publishedAt': '2021-07-19T06:45:00Z',\n",
       "   'content': \"TAIPEI, July 19 (Reuters) - Taiwan's government on Monday approved the use and production of Medigen Vaccine Biologics Corp's (6547.TWO) COVID-19 vaccine candidate, a major step in the island's plans… [+2035 chars]\"}]}"
      ]
     },
     "execution_count": 8,
     "metadata": {},
     "output_type": "execute_result"
    }
   ],
   "source": [
    "# initial date\n",
    "start_date = datetime(2021, 7, 19)\n",
    "\n",
    "# we set last date to seven days after start\n",
    "end_date = start_date + timedelta(days=7)\n",
    "\n",
    "# we set the country to UK\n",
    "language = \"en\"\n",
    "\n",
    "# we set the keyword \n",
    "keyword = \"vaccine\"\n",
    "\n",
    "# request\n",
    "results = newsapi.get_everything(q=keyword, \n",
    "                                 from_param=start_date.strftime(\"%Y-%m-%dT%H:%M:%S\"), \n",
    "                                 to=end_date.strftime(\"%Y-%m-%dT%H:%M:%S\"), \n",
    "                                 language=language)\n",
    "\n",
    "results"
   ]
  },
  {
   "cell_type": "markdown",
   "metadata": {},
   "source": [
    "We notice that the number of results should be longer:"
   ]
  },
  {
   "cell_type": "code",
   "execution_count": 9,
   "metadata": {},
   "outputs": [
    {
     "name": "stdout",
     "output_type": "stream",
     "text": [
      "Expected number of articles: 14530\n",
      "Number of results: 20\n"
     ]
    }
   ],
   "source": [
    "print(\"Expected number of articles:\", results[\"totalResults\"])\n",
    "print(\"Number of results:\", len(results[\"articles\"]))"
   ]
  },
  {
   "cell_type": "markdown",
   "metadata": {},
   "source": [
    "This is because we have to iterate over 'pages' to get all the results. Each page can contain at most 100 articles (this is a specific feature of newsapi). But developers account can only access the first 100 articles. \n",
    "\n",
    "So, to get more results we have to refine the keywords, or restrict the time frame.\n",
    "\n",
    "We will restrict to a few sources:"
   ]
  },
  {
   "cell_type": "code",
   "execution_count": 10,
   "metadata": {},
   "outputs": [
    {
     "name": "stdout",
     "output_type": "stream",
     "text": [
      "2021-07-19 00:00:00\n",
      "\t bbc-news\n",
      "\t business-insider-uk\n",
      "\t independent\n",
      "\t mirror.co.uk\n",
      "\t dailymail.co.uk\n",
      "\t standard.co.uk\n",
      "\t thesun.co.uk\n",
      "\t telegraph.co.uk\n",
      "\t metro.co.uk\n",
      "2021-07-20 00:00:00\n",
      "\t bbc-news\n",
      "\t business-insider-uk\n",
      "\t independent\n",
      "\t mirror.co.uk\n",
      "\t dailymail.co.uk\n",
      "\t standard.co.uk\n",
      "\t thesun.co.uk\n",
      "\t telegraph.co.uk\n",
      "\t metro.co.uk\n",
      "2021-07-21 00:00:00\n",
      "\t bbc-news\n",
      "\t business-insider-uk\n",
      "\t independent\n",
      "\t mirror.co.uk\n",
      "\t dailymail.co.uk\n",
      "\t\tAlert: articles limit reached\n",
      "\t standard.co.uk\n",
      "\t thesun.co.uk\n",
      "\t telegraph.co.uk\n",
      "\t metro.co.uk\n",
      "2021-07-22 00:00:00\n",
      "\t bbc-news\n",
      "\t business-insider-uk\n",
      "\t independent\n",
      "\t mirror.co.uk\n",
      "\t dailymail.co.uk\n",
      "\t\tAlert: articles limit reached\n",
      "\t standard.co.uk\n",
      "\t thesun.co.uk\n",
      "\t telegraph.co.uk\n",
      "\t metro.co.uk\n",
      "2021-07-23 00:00:00\n",
      "\t bbc-news\n",
      "\t business-insider-uk\n",
      "\t independent\n",
      "\t mirror.co.uk\n",
      "\t dailymail.co.uk\n",
      "\t\tAlert: articles limit reached\n",
      "\t standard.co.uk\n",
      "\t thesun.co.uk\n",
      "\t telegraph.co.uk\n",
      "\t metro.co.uk\n",
      "2021-07-24 00:00:00\n",
      "\t bbc-news\n",
      "\t business-insider-uk\n",
      "\t independent\n",
      "\t mirror.co.uk\n",
      "\t dailymail.co.uk\n",
      "\t standard.co.uk\n",
      "\t thesun.co.uk\n",
      "\t telegraph.co.uk\n",
      "\t metro.co.uk\n",
      "2021-07-25 00:00:00\n",
      "\t bbc-news\n",
      "\t business-insider-uk\n",
      "\t independent\n",
      "\t mirror.co.uk\n",
      "\t dailymail.co.uk\n",
      "\t standard.co.uk\n",
      "\t thesun.co.uk\n",
      "\t telegraph.co.uk\n",
      "\t metro.co.uk\n",
      "2021-07-26 00:00:00\n",
      "\t bbc-news\n",
      "\t business-insider-uk\n",
      "\t independent\n",
      "\t mirror.co.uk\n",
      "\t dailymail.co.uk\n",
      "\t standard.co.uk\n",
      "\t thesun.co.uk\n",
      "\t telegraph.co.uk\n",
      "\t metro.co.uk\n"
     ]
    }
   ],
   "source": [
    "# these are supported sources in newsapi\n",
    "sources = ['bbc-news', 'business-insider-uk', 'independent']\n",
    "\n",
    "# these are not supported so we have to pass the url\n",
    "domains = ['mirror.co.uk', 'dailymail.co.uk', 'standard.co.uk', \n",
    "           'thesun.co.uk', 'telegraph.co.uk', 'metro.co.uk']\n",
    "\n",
    "# we want to iterate over sources and dates and organize results better\n",
    "articles = []\n",
    "\n",
    "date = start_date\n",
    "step = timedelta(days=1)  # advancing step\n",
    "\n",
    "# iterate over dates\n",
    "while date <= end_date: \n",
    "    \n",
    "    # show advancement\n",
    "    print(date)\n",
    "    \n",
    "    # iterate over sources\n",
    "    for source in sources:\n",
    "        print(\"\\t\", source)\n",
    "        results = newsapi.get_everything(q=keyword, \n",
    "                                         sources=source,\n",
    "                                         from_param=date.strftime(\"%Y-%m-%dT%H:%M:%S\"), \n",
    "                                         to=(date+step).strftime(\"%Y-%m-%dT%H:%M:%S\"), \n",
    "                                         language=\"en\", \n",
    "                                         page_size=100)\n",
    "        \n",
    "        # check we're not reaching the 100 articles limit\n",
    "        if len(results[\"articles\"]) == 100:\n",
    "            print(\"\\t\\tAlert: articles limit reached\")\n",
    "        \n",
    "        # append new articles\n",
    "        articles.extend(results[\"articles\"])\n",
    "        \n",
    "    # iterate over domains\n",
    "    for domain in domains:\n",
    "        print(\"\\t\", domain)\n",
    "        results = newsapi.get_everything(q=keyword, \n",
    "                                         domains=domain,\n",
    "                                         from_param=date.strftime(\"%Y-%m-%dT%H:%M:%S\"), \n",
    "                                         to=(date+step).strftime(\"%Y-%m-%dT%H:%M:%S\"), \n",
    "                                         language=\"en\", \n",
    "                                         page_size=100)\n",
    "        \n",
    "        # check we're not reaching the 100 articles limit\n",
    "        if len(results[\"articles\"]) == 100:\n",
    "            print(\"\\t\\tAlert: articles limit reached\")\n",
    "        \n",
    "        # append new articles\n",
    "        articles.extend(results[\"articles\"])\n",
    "    \n",
    "    # advance time\n",
    "    date += step\n"
   ]
  },
  {
   "cell_type": "markdown",
   "metadata": {},
   "source": [
    "How many articles?"
   ]
  },
  {
   "cell_type": "code",
   "execution_count": 11,
   "metadata": {},
   "outputs": [
    {
     "name": "stdout",
     "output_type": "stream",
     "text": [
      "1890\n"
     ]
    }
   ],
   "source": [
    "print(len(articles))"
   ]
  },
  {
   "cell_type": "markdown",
   "metadata": {},
   "source": [
    "Save:"
   ]
  },
  {
   "cell_type": "code",
   "execution_count": 12,
   "metadata": {},
   "outputs": [],
   "source": [
    "articles_dict = {\"articles\": articles}\n",
    "with open(\"../data/articles_uk_\" + keyword + \".json\", \"w\") as file:\n",
    "    json.dump(articles_dict, file)"
   ]
  },
  {
   "cell_type": "code",
   "execution_count": null,
   "metadata": {},
   "outputs": [],
   "source": []
  }
 ],
 "metadata": {
  "kernelspec": {
   "display_name": "Python 3",
   "language": "python",
   "name": "python3"
  },
  "language_info": {
   "codemirror_mode": {
    "name": "ipython",
    "version": 3
   },
   "file_extension": ".py",
   "mimetype": "text/x-python",
   "name": "python",
   "nbconvert_exporter": "python",
   "pygments_lexer": "ipython3",
   "version": "3.7.4"
  }
 },
 "nbformat": 4,
 "nbformat_minor": 4
}
